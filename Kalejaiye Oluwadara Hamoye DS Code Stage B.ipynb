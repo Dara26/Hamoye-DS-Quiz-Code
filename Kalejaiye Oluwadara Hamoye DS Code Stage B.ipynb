{
 "cells": [
  {
   "cell_type": "code",
   "execution_count": 2,
   "metadata": {},
   "outputs": [],
   "source": [
    "import pandas as pd\n",
    "#import csv file containing data set\n",
    "df=pd.read_csv('https://archive.ics.uci.edu/ml/machine-learning-databases/00374/energydata_complete.csv')\n",
    "#drop date and light columns\n",
    "df = df.drop(['date','lights'], axis=1)\n",
    "#normalize dataframe with MinMaxScaler\n",
    "from sklearn.preprocessing import MinMaxScaler\n",
    "scaler = MinMaxScaler()\n",
    "scaled_df = pd.DataFrame(scaler.fit_transform(df), columns=df.columns)\n",
    "#create x and y variables for linear regression model\n",
    "predictor_df = scaled_df.drop(columns= 'Appliances')\n",
    "target_df = scaled_df['Appliances']\n",
    "#split into training and test data \n",
    "from sklearn.model_selection import train_test_split\n",
    "x_train, x_test, y_train, y_test = train_test_split(predictor_df, target_df, test_size=0.3, random_state=42)\n",
    "#fit linear model and obta\n",
    "from sklearn.linear_model import LinearRegression\n",
    "linear_model = LinearRegression()\n",
    "linear_model.fit(x_train, y_train)\n",
    "#get predicted values based on test data\n",
    "predicted_values1 = linear_model.predict(x_test)\n"
   ]
  },
  {
   "cell_type": "code",
   "execution_count": 10,
   "metadata": {},
   "outputs": [],
   "source": [
    "#function to measure linear model performance\n",
    "def get_modelperformance():\n",
    "    #Get MAE in two D.P\n",
    "    from sklearn.metrics import mean_absolute_error\n",
    "    mae1 = mean_absolute_error(y_test, predicted_values1).round(2)\n",
    "    #Get RSS in two D.P\n",
    "    import numpy as np\n",
    "    rss1 = np.sum(np.square(y_test - predicted_values1)).round(2)\n",
    "    #Get RMSE in three D.P\n",
    "    from sklearn.metrics import  mean_squared_error\n",
    "    rmse1 = np.sqrt(mean_squared_error(y_test, predicted_values1)).round(3)\n",
    "    #Get R-squared in two D.P\n",
    "    from sklearn.metrics import r2_score\n",
    "    r2_score1 = r2_score(y_test, predicted_values1).round(2)\n",
    "    return(mae1, r2_score1, rss1, rmse1)"
   ]
  },
  {
   "cell_type": "code",
   "execution_count": 5,
   "metadata": {},
   "outputs": [
    {
     "data": {
      "text/plain": [
       "(0.05, 0.15, 45.35, 0.088)"
      ]
     },
     "execution_count": 5,
     "metadata": {},
     "output_type": "execute_result"
    }
   ],
   "source": [
    "#Return MAE, RSS, RMSE and R-squared for linear model regression\n",
    "get_modelperformance()"
   ]
  },
  {
   "cell_type": "code",
   "execution_count": 7,
   "metadata": {},
   "outputs": [
    {
     "name": "stdout",
     "output_type": "stream",
     "text": [
      "RH_2          -0.456698\n",
      "T_out         -0.321860\n",
      "T2            -0.236178\n",
      "T9            -0.189941\n",
      "RH_8          -0.157595\n",
      "RH_out        -0.077671\n",
      "RH_7          -0.044614\n",
      "RH_9          -0.039800\n",
      "T5            -0.015657\n",
      "T1            -0.003281\n",
      "rv1            0.000770\n",
      "rv2            0.000770\n",
      "Press_mm_hg    0.006839\n",
      "T7             0.010319\n",
      "Visibility     0.012307\n",
      "RH_5           0.016006\n",
      "RH_4           0.026386\n",
      "T4             0.028981\n",
      "Windspeed      0.029183\n",
      "RH_6           0.038049\n",
      "RH_3           0.096048\n",
      "T8             0.101995\n",
      "Tdewpoint      0.117758\n",
      "T6             0.236425\n",
      "T3             0.290627\n",
      "RH_1           0.553547\n",
      "dtype: float64\n"
     ]
    }
   ],
   "source": [
    "#feature weights from lowest to highest\n",
    "coefficient_df = pd.Series(linear_model.coef_, x_train.columns).sort_values()\n",
    "print(coefficient_df)"
   ]
  },
  {
   "cell_type": "code",
   "execution_count": 9,
   "metadata": {},
   "outputs": [
    {
     "data": {
      "text/plain": [
       "<matplotlib.axes._subplots.AxesSubplot at 0x21390417948>"
      ]
     },
     "execution_count": 9,
     "metadata": {},
     "output_type": "execute_result"
    },
    {
     "data": {
      "image/png": "[encoded data removed]",
      "text/plain": [
       "<Figure size 1080x504 with 1 Axes>"
      ]
     },
     "metadata": {
      "needs_background": "light"
     },
     "output_type": "display_data"
    }
   ],
   "source": [
    "#visualization of feature weights from lowest to highest\n",
    "import matplotlib.pyplot as plt\n",
    "import seaborn as sns\n",
    "plt.figure(figsize=(15,7))\n",
    "plt.xticks(rotation=360)\n",
    "sns.barplot(x = x_train.columns, y = linear_model.coef_)"
   ]
  },
  {
   "cell_type": "code",
   "execution_count": 13,
   "metadata": {},
   "outputs": [
    {
     "name": "stdout",
     "output_type": "stream",
     "text": [
      "0.08753385704628004\n"
     ]
    }
   ],
   "source": [
    "#training a ridge regression model with alpha 0.4\n",
    "from sklearn.linear_model import Ridge\n",
    "ridge_reg = Ridge(alpha=0.4)\n",
    "ridge_reg.fit(x_train, y_train)\n",
    "predicted_values2 = ridge_reg.predict(x_test)\n",
    "#prints RMSE\n",
    "import numpy as np\n",
    "from sklearn.metrics import  mean_squared_error\n",
    "rmse2 = np.sqrt(mean_squared_error(y_test, predicted_values2))\n",
    "print(rmse2)\n",
    "    "
   ]
  },
  {
   "cell_type": "code",
   "execution_count": 14,
   "metadata": {},
   "outputs": [
    {
     "name": "stdout",
     "output_type": "stream",
     "text": [
      "RH_out        -0.049557\n",
      "RH_8          -0.000110\n",
      "T1             0.000000\n",
      "Tdewpoint      0.000000\n",
      "Visibility     0.000000\n",
      "Press_mm_hg   -0.000000\n",
      "T_out          0.000000\n",
      "RH_9          -0.000000\n",
      "T9            -0.000000\n",
      "T8             0.000000\n",
      "RH_7          -0.000000\n",
      "rv1           -0.000000\n",
      "T7            -0.000000\n",
      "T6             0.000000\n",
      "RH_5           0.000000\n",
      "T5            -0.000000\n",
      "RH_4           0.000000\n",
      "T4            -0.000000\n",
      "RH_3           0.000000\n",
      "T3             0.000000\n",
      "RH_2          -0.000000\n",
      "T2             0.000000\n",
      "RH_6          -0.000000\n",
      "rv2           -0.000000\n",
      "Windspeed      0.002912\n",
      "RH_1           0.017880\n",
      "dtype: float64\n"
     ]
    }
   ],
   "source": [
    "#training a lasso regression model with alpha 0.001\n",
    "from sklearn.linear_model import Lasso\n",
    "lasso_reg = Lasso(alpha=0.001)\n",
    "lasso_reg.fit(x_train, y_train)\n",
    "#Get features with non-zero feature weights\n",
    "lasso_weights = pd.Series(lasso_reg.coef_, x_train.columns).sort_values()\n",
    "print(lasso_weights)"
   ]
  },
  {
   "cell_type": "code",
   "execution_count": 15,
   "metadata": {},
   "outputs": [
    {
     "name": "stdout",
     "output_type": "stream",
     "text": [
      "0.094\n"
     ]
    }
   ],
   "source": [
    "#Print RMSE in three D.P with lasso regression\n",
    "predicted_values3 = lasso_reg.predict(x_test)\n",
    "from sklearn.metrics import  mean_squared_error\n",
    "rmse3 = np.sqrt(mean_squared_error(y_test, predicted_values3)).round(3)\n",
    "print(rmse3)"
   ]
  },
  {
   "cell_type": "code",
   "execution_count": 16,
   "metadata": {},
   "outputs": [
    {
     "name": "stdout",
     "output_type": "stream",
     "text": [
      "0.64\n"
     ]
    }
   ],
   "source": [
    "#Select X and Y variables for linear regression model \n",
    "temp_inside = predictor_df[['T2']]\n",
    "temp_outside = predictor_df['T6']\n",
    "from sklearn.model_selection import train_test_split\n",
    "x_train, x_test, y_train, y_test = train_test_split(temp_inside, temp_outside, test_size=0.3, random_state=42)\n",
    "from sklearn.linear_model import LinearRegression\n",
    "linear_model = LinearRegression()\n",
    "linear_model.fit(x_train, y_train)\n",
    "#Print R^2 value in two D.P\n",
    "predicted_values = linear_model.predict(x_test)\n",
    "from sklearn.metrics import r2_score\n",
    "r2_score = r2_score(y_test, predicted_values).round(2)\n",
    "print(r2_score)"
   ]
  },
  {
   "cell_type": "code",
   "execution_count": null,
   "metadata": {},
   "outputs": [],
   "source": []
  }
 ],
 "metadata": {
  "kernelspec": {
   "display_name": "Python 3",
   "language": "python",
   "name": "python3"
  },
  "language_info": {
   "codemirror_mode": {
    "name": "ipython",
    "version": 3
   },
   "file_extension": ".py",
   "mimetype": "text/x-python",
   "name": "python",
   "nbconvert_exporter": "python",
   "pygments_lexer": "ipython3",
   "version": "3.7.6"
  }
 },
 "nbformat": 4,
 "nbformat_minor": 4
}
