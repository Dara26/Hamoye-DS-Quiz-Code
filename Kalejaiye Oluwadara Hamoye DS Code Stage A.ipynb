{
 "cells": [
  {
   "cell_type": "code",
   "execution_count": 1,
   "metadata": {},
   "outputs": [
    {
     "name": "stdout",
     "output_type": "stream",
     "text": [
      "[1, 2, 3, 4, 5, 6, 13, 21, 34]\n"
     ]
    }
   ],
   "source": [
    "#Question 1\n",
    "A = [1,2,3,4,5,6]\n",
    "B = [13, 21, 34]\n",
    "#Create a list with output: A_B = [1, 2, 3, 4, 5, 6, 13, 21, 34]\n",
    "A.extend(B)\n",
    "A_B = A\n",
    "print(A_B)\n",
    "#OR\n",
    "#A_B = A + B\n",
    "#print(A_B)"
   ]
  },
  {
   "cell_type": "code",
   "execution_count": 2,
   "metadata": {},
   "outputs": [
    {
     "data": {
      "text/plain": [
       "array([[1., 0., 0.],\n",
       "       [0., 1., 0.],\n",
       "       [0., 0., 1.]])"
      ]
     },
     "execution_count": 2,
     "metadata": {},
     "output_type": "execute_result"
    }
   ],
   "source": [
    "#Question 2\n",
    "import numpy as np\n",
    "#Create an identity matrix in python\n",
    "np.identity(3)"
   ]
  },
  {
   "cell_type": "code",
   "execution_count": 6,
   "metadata": {},
   "outputs": [
    {
     "data": {
      "text/plain": [
       "fuel_type_code_pudl\n",
       "gas          13.659397\n",
       "other        18.253856\n",
       "waste        19.518122\n",
       "coal         67.421830\n",
       "oil         168.877086\n",
       "nuclear    4955.157002\n",
       "Name: fuel_cost_per_unit_burned, dtype: float64"
      ]
     },
     "execution_count": 6,
     "metadata": {},
     "output_type": "execute_result"
    }
   ],
   "source": [
    "#Question 3\n",
    "import pandas as pd\n",
    "#read data from dataset file\n",
    "url = 'https://raw.githubusercontent.com/WalePhenomenon/climate_change/master/fuel_ferc1.csv'\n",
    "fuel_data = pd.read_csv(url, error_bad_lines=False)\n",
    "#fuel type code in order of lowest average fuel cost per unit burned\n",
    "fuel_data.groupby(['fuel_type_code_pudl'])['fuel_cost_per_unit_burned'].mean().sort_values(ascending=True)"
   ]
  },
  {
   "cell_type": "code",
   "execution_count": 23,
   "metadata": {},
   "outputs": [
    {
     "data": {
      "text/plain": [
       "(1, 12000)"
      ]
     },
     "execution_count": 23,
     "metadata": {},
     "output_type": "execute_result"
    },
    {
     "data": {
      "image/png": "[encoded data removed]",
      "text/plain": [
       "<Figure size 576x360 with 1 Axes>"
      ]
     },
     "metadata": {
      "needs_background": "light"
     },
     "output_type": "display_data"
    }
   ],
   "source": [
    "#Question 3 Data Visualization\n",
    "import matplotlib.pyplot as plt\n",
    "import seaborn as sns\n",
    "fuel_type = fuel_data['fuel_type_code_pudl']\n",
    "fuel_costb = fuel_data['fuel_cost_per_unit_burned']\n",
    "plt.figure(figsize=(8,5))\n",
    "plt.xticks(rotation=360)\n",
    "sns.barplot(x = fuel_type, y = fuel_costb, data=fuel_data)\n",
    "plt.xlabel('Fuel Type Code')\n",
    "g = sns.barplot(x = fuel_type, y =fuel_costb)\n",
    "g.set_yscale(\"log\")\n",
    "g.set_ylim(1, 12000)"
   ]
  },
  {
   "cell_type": "code",
   "execution_count": 8,
   "metadata": {},
   "outputs": [
    {
     "data": {
      "text/plain": [
       "count    29523.00\n",
       "mean         8.49\n",
       "std         10.60\n",
       "min          0.00\n",
       "25%          1.02\n",
       "50%          5.76\n",
       "75%         17.01\n",
       "max        341.26\n",
       "Name: fuel_mmbtu_per_unit, dtype: float64"
      ]
     },
     "execution_count": 8,
     "metadata": {},
     "output_type": "execute_result"
    }
   ],
   "source": [
    "#Question 4\n",
    "#standard deviation and 75th percentile rounded to 2 decimal places in summary statistics with describe() function\n",
    "fuel_data['fuel_mmbtu_per_unit'].describe().round(2)"
   ]
  },
  {
   "cell_type": "code",
   "execution_count": 11,
   "metadata": {},
   "outputs": [
    {
     "name": "stdout",
     "output_type": "stream",
     "text": [
      "[15.85, 651.37]\n"
     ]
    }
   ],
   "source": [
    "#Question 5\n",
    "#skewness and kurtosis of fuel quantity burned to two decimal places\n",
    "Ans5 = [fuel_data['fuel_qty_burned'].skew().round(2),fuel_data['fuel_qty_burned'].kurtosis().round(2)]\n",
    "print(Ans5)"
   ]
  },
  {
   "cell_type": "code",
   "execution_count": 16,
   "metadata": {},
   "outputs": [
    {
     "name": "stdout",
     "output_type": "stream",
     "text": [
      "0.613\n"
     ]
    }
   ],
   "source": [
    "#Question 6\n",
    "#Find total number of missing values\n",
    "null_value = fuel_data.isna().sum()\n",
    "#Percentage of missing rows\n",
    "row_sum = fuel_data['fuel_unit'].count().sum()\n",
    "print(((null_value.loc['fuel_unit'] / row_sum) * 100).round(3))\n"
   ]
  },
  {
   "cell_type": "code",
   "execution_count": 18,
   "metadata": {},
   "outputs": [
    {
     "name": "stdout",
     "output_type": "stream",
     "text": [
      "utility_id_ferc1               -0.037863\n",
      "fuel_qty_burned                -0.018535\n",
      "fuel_mmbtu_per_unit            -0.010034\n",
      "fuel_cost_per_mmbtu            -0.000437\n",
      "fuel_cost_per_unit_delivered    0.011007\n",
      "report_year                     0.013599\n",
      "fuel_cost_per_unit_burned       1.000000\n",
      "Name: fuel_cost_per_unit_burned, dtype: float64\n"
     ]
    }
   ],
   "source": [
    "#Question 8\n",
    "#Find correlation of columns in data frame\n",
    "df1 = fuel_data.corr()\n",
    "#Correlation of fuel cost per unit burned from lowest to highest\n",
    "corr_fuel_cost = df1.loc['fuel_cost_per_unit_burned'].sort_values(ascending = True)\n",
    "print(corr_fuel_cost)"
   ]
  },
  {
   "cell_type": "code",
   "execution_count": 19,
   "metadata": {},
   "outputs": [
    {
     "name": "stdout",
     "output_type": "stream",
     "text": [
      "-20.567654518260483\n"
     ]
    }
   ],
   "source": [
    "#Question 9\n",
    "#Group fuel cost per unit burned by year and fuel type\n",
    "df = fuel_data.groupby(['report_year','fuel_type_code_pudl'])['fuel_cost_per_unit_burned'].sum()\n",
    "#Calculate percentage of coal in 1994\n",
    "year_1994 = df.loc[1994, 'coal'] * 100\n",
    "#Calculate percentage of coal in 1998\n",
    "year_1998 = df.loc[1998, 'coal'] * 100\n",
    "#Calculate percentage change\n",
    "print(((year_1998 - year_1994)/year_1994)*100)"
   ]
  },
  {
   "cell_type": "code",
   "execution_count": 21,
   "metadata": {},
   "outputs": [
    {
     "data": {
      "text/plain": [
       "report_year\n",
       "1997    11140.197239\n",
       "1996     9196.705948\n",
       "2000      985.362877\n",
       "2009      652.694163\n",
       "2018      499.269966\n",
       "2015      326.535511\n",
       "1998      287.154420\n",
       "2014      192.737183\n",
       "2013      172.307591\n",
       "2004      139.524275\n",
       "2016      103.901761\n",
       "2010       91.862105\n",
       "1994       63.636060\n",
       "2012       60.994502\n",
       "2001       60.050396\n",
       "2011       59.774667\n",
       "2008       58.588197\n",
       "2003       55.663493\n",
       "2002       47.594361\n",
       "2017       46.196861\n",
       "2007       43.325023\n",
       "2005       41.438184\n",
       "2006       38.657484\n",
       "1995       32.735269\n",
       "1999       25.551627\n",
       "Name: fuel_cost_per_unit_delivered, dtype: float64"
      ]
     },
     "execution_count": 21,
     "metadata": {},
     "output_type": "execute_result"
    }
   ],
   "source": [
    "#Question 10\n",
    "#Calculate year with highest average fuel cost per unit delivered\n",
    "fuel_data.groupby(['report_year'])['fuel_cost_per_unit_delivered'].mean().sort_values(ascending=False)"
   ]
  },
  {
   "cell_type": "code",
   "execution_count": 22,
   "metadata": {},
   "outputs": [
    {
     "data": {
      "text/plain": [
       "(1, 12000)"
      ]
     },
     "execution_count": 22,
     "metadata": {},
     "output_type": "execute_result"
    },
    {
     "data": {
      "image/png": "[encoded data removed]",
      "text/plain": [
       "<Figure size 1080x504 with 1 Axes>"
      ]
     },
     "metadata": {
      "needs_background": "light"
     },
     "output_type": "display_data"
    }
   ],
   "source": [
    "#Question 10 Data Visualization\n",
    "year_bar = fuel_data['report_year']\n",
    "cost_bar = fuel_data['fuel_cost_per_unit_delivered']\n",
    "plt.figure(figsize=(15,7))\n",
    "plt.xticks(rotation=360)\n",
    "sns.barplot(x = year_bar, y = cost_bar, data=fuel_data)\n",
    "plt.xlabel('Fuel Unit')\n",
    "g = sns.barplot(x = year_bar, y = cost_bar)\n",
    "g.set_yscale(\"log\")\n",
    "g.set_ylim(1, 12000)"
   ]
  },
  {
   "cell_type": "code",
   "execution_count": null,
   "metadata": {},
   "outputs": [],
   "source": []
  }
 ],
 "metadata": {
  "kernelspec": {
   "display_name": "Python 3",
   "language": "python",
   "name": "python3"
  },
  "language_info": {
   "codemirror_mode": {
    "name": "ipython",
    "version": 3
   },
   "file_extension": ".py",
   "mimetype": "text/x-python",
   "name": "python",
   "nbconvert_exporter": "python",
   "pygments_lexer": "ipython3",
   "version": "3.7.6"
  }
 },
 "nbformat": 4,
 "nbformat_minor": 4
}
